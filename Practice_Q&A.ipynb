{
  "cells": [
    {
      "cell_type": "markdown",
      "metadata": {
        "id": "view-in-github",
        "colab_type": "text"
      },
      "source": [
        "<a href=\"https://colab.research.google.com/github/Hameedhullah/Python-Practice-and-Project/blob/main/Practice_Q%26A.ipynb\" target=\"_parent\"><img src=\"https://colab.research.google.com/assets/colab-badge.svg\" alt=\"Open In Colab\"/></a>"
      ]
    },
    {
      "cell_type": "raw",
      "id": "977d5dc9-d5e9-4186-afc8-9d6e19db7281",
      "metadata": {
        "id": "977d5dc9-d5e9-4186-afc8-9d6e19db7281"
      },
      "source": [
        "Question 1 - Write a Python program to reverse a string without using any built-in string reversal functions."
      ]
    },
    {
      "cell_type": "code",
      "execution_count": null,
      "id": "5a1b9c1f-4e2b-43ec-88ce-62f4eb57c254",
      "metadata": {
        "id": "5a1b9c1f-4e2b-43ec-88ce-62f4eb57c254",
        "outputId": "f4ee2270-1133-43da-eecc-2a24ad615ad0"
      },
      "outputs": [
        {
          "name": "stdout",
          "output_type": "stream",
          "text": [
            "The reverse string is: mah si eman yM\n"
          ]
        }
      ],
      "source": [
        "name = 'My name is ham'\n",
        "print('The reverse string is:',name[::-1])"
      ]
    },
    {
      "cell_type": "raw",
      "id": "52d11f1d-0ebe-4132-bb02-f00dc3900b64",
      "metadata": {
        "id": "52d11f1d-0ebe-4132-bb02-f00dc3900b64"
      },
      "source": [
        "Question 2 - Write a Python program that takes a user input and prints it."
      ]
    },
    {
      "cell_type": "code",
      "execution_count": null,
      "id": "00446f6c-95fc-4ed0-a55e-fbd535d0ac59",
      "metadata": {
        "id": "00446f6c-95fc-4ed0-a55e-fbd535d0ac59",
        "outputId": "2a57cb4a-603a-4cfa-cbde-7c48bb0bef95"
      },
      "outputs": [
        {
          "name": "stdin",
          "output_type": "stream",
          "text": [
            "Enter a word:  ant\n"
          ]
        },
        {
          "name": "stdout",
          "output_type": "stream",
          "text": [
            "Your entered word is ant\n"
          ]
        }
      ],
      "source": [
        "word = input(\"Enter a word: \")\n",
        "print('Your entered word is',word)"
      ]
    },
    {
      "cell_type": "raw",
      "id": "29d97d60-f919-45e0-a7fd-9d4f0b44680b",
      "metadata": {
        "id": "29d97d60-f919-45e0-a7fd-9d4f0b44680b"
      },
      "source": [
        "Question 3 - Write a Python program to check if a number is positive, negative, or zero."
      ]
    },
    {
      "cell_type": "code",
      "execution_count": null,
      "id": "c1dbb6e0-fe5b-40c7-b5c4-d0e9274359e8",
      "metadata": {
        "id": "c1dbb6e0-fe5b-40c7-b5c4-d0e9274359e8",
        "outputId": "7742dfa6-5182-4f65-c8e1-4dc9ab445b13"
      },
      "outputs": [
        {
          "name": "stdin",
          "output_type": "stream",
          "text": [
            "Enter the number:  0\n"
          ]
        },
        {
          "name": "stdout",
          "output_type": "stream",
          "text": [
            "The number is zero\n"
          ]
        }
      ],
      "source": [
        "number = int(input(\"Enter the number: \"))\n",
        "if number == 0:\n",
        "    print(\"The number is zero\")\n",
        "elif number > 0:\n",
        "    print(\"The number is positive\")\n",
        "else:\n",
        "    print(\"The number is negative\")"
      ]
    },
    {
      "cell_type": "raw",
      "id": "b294f6ed-f4e1-4676-bc74-0a83b92e8b0e",
      "metadata": {
        "id": "b294f6ed-f4e1-4676-bc74-0a83b92e8b0e"
      },
      "source": [
        "Question 4 - Write a Python program to find the largest of numbers."
      ]
    },
    {
      "cell_type": "code",
      "execution_count": null,
      "id": "2abe6e50-4065-4207-8477-539339a3e809",
      "metadata": {
        "id": "2abe6e50-4065-4207-8477-539339a3e809",
        "outputId": "ec9e6c25-f4ef-45d6-884f-4fa9109fc5eb"
      },
      "outputs": [
        {
          "name": "stdout",
          "output_type": "stream",
          "text": [
            "25\n"
          ]
        }
      ],
      "source": [
        "x = [13,25,17,5,3,10,12,9]\n",
        "print(max(x))"
      ]
    },
    {
      "cell_type": "raw",
      "id": "3b63398d-d0a8-4606-92df-5653c74e8e76",
      "metadata": {
        "id": "3b63398d-d0a8-4606-92df-5653c74e8e76"
      },
      "source": [
        "Question 5 - Write a Python program to swap the values of two variables."
      ]
    },
    {
      "cell_type": "code",
      "execution_count": null,
      "id": "755b6217-1752-43ca-8395-4d6b06dbdd66",
      "metadata": {
        "id": "755b6217-1752-43ca-8395-4d6b06dbdd66",
        "outputId": "137c043d-3975-4f54-b12f-c7cfeec198cc"
      },
      "outputs": [
        {
          "name": "stdout",
          "output_type": "stream",
          "text": [
            "Before swap value of a: 10\n",
            "Before swap value of b: 100\n",
            "After swap value of a: 100\n",
            "After swap value of b: 10\n"
          ]
        }
      ],
      "source": [
        "a = 10\n",
        "b = 100\n",
        "print('Before swap value of a:',a)\n",
        "print('Before swap value of b:',b)\n",
        "a,b = b,a\n",
        "print('After swap value of a:',a)\n",
        "print('After swap value of b:',b)"
      ]
    },
    {
      "cell_type": "raw",
      "id": "b79e83c4-f40a-4a74-ad56-1a65e801a353",
      "metadata": {
        "id": "b79e83c4-f40a-4a74-ad56-1a65e801a353"
      },
      "source": [
        "Question 6 - Write a Python program to convert Celsius to Fahrenheit."
      ]
    },
    {
      "cell_type": "code",
      "execution_count": null,
      "id": "8e532d3f-35f4-4b0f-807d-6845394188b6",
      "metadata": {
        "id": "8e532d3f-35f4-4b0f-807d-6845394188b6",
        "outputId": "dfd5bc5c-8d44-47ec-d2b1-4434b5ef80a7"
      },
      "outputs": [
        {
          "name": "stdin",
          "output_type": "stream",
          "text": [
            "Enter the celsius:  10.3\n"
          ]
        },
        {
          "name": "stdout",
          "output_type": "stream",
          "text": [
            "50.54\n"
          ]
        }
      ],
      "source": [
        "Celsius = float(input(\"Enter the celsius: \"))\n",
        "Farenheit = (Celsius * (9/5))+32\n",
        "print(round(Farenheit,2))"
      ]
    },
    {
      "cell_type": "raw",
      "id": "42da9c74-fc38-4759-a273-1e048aa49fa5",
      "metadata": {
        "id": "42da9c74-fc38-4759-a273-1e048aa49fa5"
      },
      "source": [
        "Question 7 - Write a Python program to concatenate two strings."
      ]
    },
    {
      "cell_type": "code",
      "execution_count": null,
      "id": "75cffb3c-0512-492f-a9fb-ad762cf35df9",
      "metadata": {
        "id": "75cffb3c-0512-492f-a9fb-ad762cf35df9",
        "outputId": "bcd81037-4a63-4e7e-b746-fdea8709a721"
      },
      "outputs": [
        {
          "name": "stdin",
          "output_type": "stream",
          "text": [
            "Choose the dress name:  shirt\n",
            "Choose the color:  blue\n"
          ]
        },
        {
          "name": "stdout",
          "output_type": "stream",
          "text": [
            "blue shirt\n"
          ]
        }
      ],
      "source": [
        "dress = input(\"Choose the dress name: \")\n",
        "color = input(\"Choose the color: \")\n",
        "print(color+ ' '+dress)"
      ]
    },
    {
      "cell_type": "raw",
      "id": "9c739261-abc8-4bef-8620-aa029b53018d",
      "metadata": {
        "id": "9c739261-abc8-4bef-8620-aa029b53018d"
      },
      "source": [
        "Question 8 - Write a Python program to check if a variable is of a specific data type"
      ]
    },
    {
      "cell_type": "code",
      "execution_count": null,
      "id": "0b138eb7-9bfa-408f-9422-96fb974e591f",
      "metadata": {
        "id": "0b138eb7-9bfa-408f-9422-96fb974e591f",
        "outputId": "f46b40ca-9584-4f1b-f276-331a5471e192"
      },
      "outputs": [
        {
          "name": "stdout",
          "output_type": "stream",
          "text": [
            "<class 'int'>\n",
            "<class 'str'>\n",
            "<class 'bool'>\n",
            "<class 'tuple'>\n"
          ]
        }
      ],
      "source": [
        "i = 123\n",
        "print(type(i))\n",
        "\n",
        "name = 'ham'\n",
        "print(type(name))\n",
        "\n",
        "z = True\n",
        "print(type(z))\n",
        "\n",
        "val = (123,'con',23,5)\n",
        "print(type(val))"
      ]
    },
    {
      "cell_type": "raw",
      "id": "a441700d-a6d0-4d99-9cad-1922efda6cbd",
      "metadata": {
        "id": "a441700d-a6d0-4d99-9cad-1922efda6cbd"
      },
      "source": [
        "Question 9 - Write a Python program to perform arithmetic operations: addition, subtraction, multiplication, and division."
      ]
    },
    {
      "cell_type": "code",
      "execution_count": null,
      "id": "c2d4993f-76e1-416b-83bc-d6eaa1a1c421",
      "metadata": {
        "id": "c2d4993f-76e1-416b-83bc-d6eaa1a1c421",
        "outputId": "7e12ff85-f69f-4202-b2c4-cc24a48e50ce"
      },
      "outputs": [
        {
          "name": "stdin",
          "output_type": "stream",
          "text": [
            "Enter the number:  1000\n",
            "Enter the number:  25\n",
            "Select the operation:  /\n"
          ]
        },
        {
          "name": "stdout",
          "output_type": "stream",
          "text": [
            "The division of two number is:40.0\n"
          ]
        }
      ],
      "source": [
        "n1 = int(input(\"Enter the number: \"))\n",
        "n2 = int(input(\"Enter the number: \"))\n",
        "symbol = input(\"Select the operation: \")\n",
        "if symbol == '+':\n",
        "    print(f\"The sum of two number is:{n1+n2}\")\n",
        "elif symbol == '-':\n",
        "    print(f\"The subtract of two number is:{n2-n1}\")\n",
        "elif symbol == '*':\n",
        "    print(f\"The product of two number is:{n1*n2}\")\n",
        "elif symbol == '/':\n",
        "    print(f\"The division of two number is:{n1/n2}\")\n",
        "else:\n",
        "    print(\"The operation is not available in it\")"
      ]
    },
    {
      "cell_type": "raw",
      "id": "62690640-8cc5-4b0d-86f8-bb258e289895",
      "metadata": {
        "id": "62690640-8cc5-4b0d-86f8-bb258e289895"
      },
      "source": [
        "Question 10 - Write a Python program to calculate the square of a number."
      ]
    },
    {
      "cell_type": "code",
      "execution_count": null,
      "id": "546fca06-0a80-47c9-a36a-b062ddf22c60",
      "metadata": {
        "id": "546fca06-0a80-47c9-a36a-b062ddf22c60",
        "outputId": "d7cbdc88-54e4-4800-e58c-0e4efe0bea5e"
      },
      "outputs": [
        {
          "name": "stdin",
          "output_type": "stream",
          "text": [
            "Enter the number:  14\n"
          ]
        },
        {
          "name": "stdout",
          "output_type": "stream",
          "text": [
            "Square of 14 is :196\n"
          ]
        }
      ],
      "source": [
        "n = int(input(\"Enter the number: \"))\n",
        "print(f\"Square of {n} is :{n*n}\")"
      ]
    },
    {
      "cell_type": "raw",
      "id": "d1691dbc-7030-4ed0-82d3-ea7834342769",
      "metadata": {
        "id": "d1691dbc-7030-4ed0-82d3-ea7834342769"
      },
      "source": [
        "Question 11 - Write a Python program to check if a number is even or odd."
      ]
    },
    {
      "cell_type": "code",
      "execution_count": null,
      "id": "2b83d3fe-f0c0-4ed3-9a91-368a15203ff2",
      "metadata": {
        "id": "2b83d3fe-f0c0-4ed3-9a91-368a15203ff2",
        "outputId": "52689f55-72d6-4243-fc9c-ae5f083377a9"
      },
      "outputs": [
        {
          "name": "stdin",
          "output_type": "stream",
          "text": [
            "Enter the number:  103\n"
          ]
        },
        {
          "name": "stdout",
          "output_type": "stream",
          "text": [
            "The number 103 is Odd number\n"
          ]
        }
      ],
      "source": [
        "n = int(input(\"Enter the number: \"))\n",
        "if n%2 == 0:\n",
        "    print(f\"The number {n} is Even number\")\n",
        "else:\n",
        "    print(f\"The number {n} is Odd number\")"
      ]
    },
    {
      "cell_type": "raw",
      "id": "51b06aec-c426-43ba-a50a-e4bae9646d77",
      "metadata": {
        "id": "51b06aec-c426-43ba-a50a-e4bae9646d77"
      },
      "source": [
        "Question 12 - Write a Python program to find the sum of the first n natural numbers."
      ]
    },
    {
      "cell_type": "code",
      "execution_count": null,
      "id": "4ba0ed39-d62d-473f-af61-a3f2f8e19764",
      "metadata": {
        "id": "4ba0ed39-d62d-473f-af61-a3f2f8e19764",
        "outputId": "362b8b49-8aa7-42f3-f9c9-4fdbe82e367f"
      },
      "outputs": [
        {
          "name": "stdin",
          "output_type": "stream",
          "text": [
            "Enter the number:  100\n"
          ]
        },
        {
          "name": "stdout",
          "output_type": "stream",
          "text": [
            "The sum of 100 natural number is 5050.0\n"
          ]
        }
      ],
      "source": [
        "n = int(input(\"Enter the number: \"))\n",
        "total = 0\n",
        "for i in range(0,n+1):\n",
        "    total = (i*(i+1))/2\n",
        "print(f\"The sum of {n} natural number is\", total)"
      ]
    },
    {
      "cell_type": "raw",
      "id": "c1d51327-8a2b-4d74-b3cb-f72f82205456",
      "metadata": {
        "id": "c1d51327-8a2b-4d74-b3cb-f72f82205456"
      },
      "source": [
        "Question 13 - Write a Python program to check if a year is a leap year."
      ]
    },
    {
      "cell_type": "code",
      "execution_count": null,
      "id": "4d52d8a3-29b8-4520-a519-75a5f9acd764",
      "metadata": {
        "id": "4d52d8a3-29b8-4520-a519-75a5f9acd764",
        "outputId": "b35dcade-18db-47ab-ba8f-2ba2b94a5b6a"
      },
      "outputs": [
        {
          "name": "stdin",
          "output_type": "stream",
          "text": [
            "Enter the year -  2022\n"
          ]
        },
        {
          "name": "stdout",
          "output_type": "stream",
          "text": [
            "2022 is not a leap year\n"
          ]
        }
      ],
      "source": [
        "year = int(input(\"Enter the year - \"))\n",
        "if (year%4 == 0 and year%100 != 0) or (year%400 == 0):\n",
        "    print(f\"{year} is a leap year\")\n",
        "else:\n",
        "    print(f\"{year} is not a leap year\")"
      ]
    },
    {
      "cell_type": "raw",
      "id": "414209f4-4e37-4226-954a-b1957b4b7bf3",
      "metadata": {
        "id": "414209f4-4e37-4226-954a-b1957b4b7bf3"
      },
      "source": [
        "Question 14 - Write a program that asks the user to input a number and prints whether the number is positive and even, positive and odd, or negative."
      ]
    },
    {
      "cell_type": "code",
      "execution_count": null,
      "id": "d48382e3-734a-4b7c-aa8a-ce1f7ea24ef5",
      "metadata": {
        "id": "d48382e3-734a-4b7c-aa8a-ce1f7ea24ef5",
        "outputId": "6ce156d1-50f2-4260-c1ef-1f09732e91f9"
      },
      "outputs": [
        {
          "name": "stdin",
          "output_type": "stream",
          "text": [
            "Enter the number:  0\n"
          ]
        },
        {
          "name": "stdout",
          "output_type": "stream",
          "text": [
            "The number is 0\n"
          ]
        }
      ],
      "source": [
        "number = int(input(\"Enter the number: \"))\n",
        "if number == 0:\n",
        "    print(\"The number is 0\")\n",
        "elif number > 0:\n",
        "    if number%2 == 0:\n",
        "        print(f\"The {number} is Positive and Even\")\n",
        "    else:\n",
        "        print(f\"The {number} is Positive and Odd\")\n",
        "else:\n",
        "    print(f\"The {number} is negative\")"
      ]
    },
    {
      "cell_type": "raw",
      "id": "d0eccdbb-0c24-4d73-b041-0fc05fbb3cef",
      "metadata": {
        "id": "d0eccdbb-0c24-4d73-b041-0fc05fbb3cef"
      },
      "source": [
        "Question 15 - Write a program that prints all the numbers from 1 to 10 using a for loop."
      ]
    },
    {
      "cell_type": "code",
      "execution_count": null,
      "id": "8205997a-4380-429e-b4e0-b08ca337915a",
      "metadata": {
        "id": "8205997a-4380-429e-b4e0-b08ca337915a",
        "outputId": "4011aa6c-eb87-420e-bd62-65df72bde9a4"
      },
      "outputs": [
        {
          "name": "stdout",
          "output_type": "stream",
          "text": [
            "1,2,3,4,5,6,7,8,9,10,"
          ]
        }
      ],
      "source": [
        "for i in range(1,11):\n",
        "    print(i, end = ',')"
      ]
    },
    {
      "cell_type": "raw",
      "id": "b34bbbd2-de09-4442-893b-2043a55c1746",
      "metadata": {
        "id": "b34bbbd2-de09-4442-893b-2043a55c1746"
      },
      "source": [
        "Question 16 - Write a program that prints all the numbers from 1 to 10 using a while loop."
      ]
    },
    {
      "cell_type": "code",
      "execution_count": null,
      "id": "1d55a482-a921-4010-9a2f-a3e6d7f23133",
      "metadata": {
        "id": "1d55a482-a921-4010-9a2f-a3e6d7f23133",
        "outputId": "f5b013f9-715c-49c7-d95a-37841155e596"
      },
      "outputs": [
        {
          "name": "stdout",
          "output_type": "stream",
          "text": [
            "1 2 3 4 5 6 7 8 9 10 "
          ]
        }
      ],
      "source": [
        "n = 1\n",
        "while n <=10:\n",
        "    print(n, end = ' ')\n",
        "    n = n+1"
      ]
    },
    {
      "cell_type": "raw",
      "id": "96fa2dcb-81d4-4a95-b845-a6de072ca51c",
      "metadata": {
        "id": "96fa2dcb-81d4-4a95-b845-a6de072ca51c"
      },
      "source": [
        "Question 17 - Write a program that prints a 5x5 grid of asterisks (*) using nested loops."
      ]
    },
    {
      "cell_type": "code",
      "execution_count": null,
      "id": "78390518-9f3a-4c29-83b8-1dfede551459",
      "metadata": {
        "id": "78390518-9f3a-4c29-83b8-1dfede551459",
        "outputId": "1292dc53-7d6b-4202-9be9-33887e9b0889"
      },
      "outputs": [
        {
          "name": "stdout",
          "output_type": "stream",
          "text": [
            "* * * * * \n",
            "* * * * * \n",
            "* * * * * \n",
            "* * * * * \n",
            "* * * * * \n"
          ]
        }
      ],
      "source": [
        "for i in range(1,6):\n",
        "    for j in range(1,6):\n",
        "        print('*', end = \" \")\n",
        "    print()"
      ]
    },
    {
      "cell_type": "raw",
      "id": "24cdb2b7-cc53-48a1-b07d-21b4f5a423e1",
      "metadata": {
        "id": "24cdb2b7-cc53-48a1-b07d-21b4f5a423e1"
      },
      "source": [
        "Question 18 - Write a program that asks the user to input numbers until they input 0. The program should print the sum of all the input numbers."
      ]
    },
    {
      "cell_type": "code",
      "execution_count": null,
      "id": "6a817221-4e65-429a-b4d7-b96a2a614a3a",
      "metadata": {
        "id": "6a817221-4e65-429a-b4d7-b96a2a614a3a",
        "outputId": "09f01261-7d81-4c15-b689-4f255c217533"
      },
      "outputs": [
        {
          "name": "stdin",
          "output_type": "stream",
          "text": [
            "Enter the number:  0\n"
          ]
        },
        {
          "name": "stdout",
          "output_type": "stream",
          "text": [
            "No numbers entered.\n"
          ]
        }
      ],
      "source": [
        "count = 0\n",
        "total_sum = 0\n",
        "while True:\n",
        "    number = int(input(\"Enter the number: \"))\n",
        "    if number == 0:\n",
        "        break\n",
        "    total_sum += number\n",
        "    count += 1\n",
        "else:\n",
        "    print(\"Invalid input. Please enter a valid number.\")\n",
        "if count == 0:\n",
        "    print(\"No numbers entered.\")\n",
        "else:\n",
        "    print(f\"Sum of the entered numbers: {total_sum:}\")"
      ]
    },
    {
      "cell_type": "raw",
      "id": "0b603d3b-c72b-4d3b-a636-6c4307fbaa51",
      "metadata": {
        "id": "0b603d3b-c72b-4d3b-a636-6c4307fbaa51"
      },
      "source": [
        "Question 19 - Write a program that prints all the numbers from 1 to 10 except 5 using a for loop and continue statement."
      ]
    },
    {
      "cell_type": "code",
      "execution_count": null,
      "id": "443a4fb7-0488-44b3-9199-6afad988ed4b",
      "metadata": {
        "id": "443a4fb7-0488-44b3-9199-6afad988ed4b",
        "outputId": "b1305b3e-a3f9-45fc-97e0-2058ee7aa4d6"
      },
      "outputs": [
        {
          "name": "stdout",
          "output_type": "stream",
          "text": [
            "1 2 3 4 6 7 8 9 10 "
          ]
        }
      ],
      "source": [
        "for i in range(1,11):\n",
        "    if i == 5:\n",
        "        continue\n",
        "    else:\n",
        "        print(i, end = ' ')"
      ]
    },
    {
      "cell_type": "raw",
      "id": "06be65b4-6190-4314-b3b6-5d4906ba3047",
      "metadata": {
        "id": "06be65b4-6190-4314-b3b6-5d4906ba3047"
      },
      "source": [
        "Question 20 - Write a program that defines an empty function using the pass statement."
      ]
    },
    {
      "cell_type": "code",
      "execution_count": null,
      "id": "7075930d-45c7-4c36-9cd2-5aaf0109740c",
      "metadata": {
        "id": "7075930d-45c7-4c36-9cd2-5aaf0109740c"
      },
      "outputs": [],
      "source": [
        "def my_empty_function():\n",
        "    pass\n",
        "my_empty_function()"
      ]
    },
    {
      "cell_type": "raw",
      "id": "940e88ed-5087-472a-a863-91442a7a12b9",
      "metadata": {
        "id": "940e88ed-5087-472a-a863-91442a7a12b9"
      },
      "source": [
        "Question 21 - Write a program that asks the user to input a number and prints all the even numbers from 1 to that number using a for loop."
      ]
    },
    {
      "cell_type": "code",
      "execution_count": null,
      "id": "74f8cc11-e7fe-4704-85b6-5ca7a02e5371",
      "metadata": {
        "id": "74f8cc11-e7fe-4704-85b6-5ca7a02e5371",
        "outputId": "018cfca8-0b32-4832-e89f-c65cd5d54083"
      },
      "outputs": [
        {
          "name": "stdin",
          "output_type": "stream",
          "text": [
            "Enter the number:  12\n"
          ]
        },
        {
          "name": "stdout",
          "output_type": "stream",
          "text": [
            "2 4 6 8 10 12 "
          ]
        }
      ],
      "source": [
        "n = int(input(\"Enter the number: \"))\n",
        "for i in range(1,n+1):\n",
        "    if i%2 == 0:\n",
        "        print(i, end = ' ')"
      ]
    },
    {
      "cell_type": "raw",
      "id": "a064e712-8193-4447-bf1d-f6e8a2a97d44",
      "metadata": {
        "id": "a064e712-8193-4447-bf1d-f6e8a2a97d44"
      },
      "source": [
        "Question 22 - Write a program that calculates the factorial of a number input\n",
        "by the user using a while loop."
      ]
    },
    {
      "cell_type": "code",
      "execution_count": null,
      "id": "7fa3a96d-f8e1-4c12-be80-dc11949d28c4",
      "metadata": {
        "id": "7fa3a96d-f8e1-4c12-be80-dc11949d28c4"
      },
      "outputs": [],
      "source": []
    },
    {
      "cell_type": "code",
      "execution_count": null,
      "id": "62e88915-44d6-4ed7-bacf-3690dbe47f2c",
      "metadata": {
        "id": "62e88915-44d6-4ed7-bacf-3690dbe47f2c"
      },
      "outputs": [],
      "source": []
    }
  ],
  "metadata": {
    "kernelspec": {
      "display_name": "Python 3 (ipykernel)",
      "language": "python",
      "name": "python3"
    },
    "language_info": {
      "codemirror_mode": {
        "name": "ipython",
        "version": 3
      },
      "file_extension": ".py",
      "mimetype": "text/x-python",
      "name": "python",
      "nbconvert_exporter": "python",
      "pygments_lexer": "ipython3",
      "version": "3.10.8"
    },
    "colab": {
      "provenance": [],
      "include_colab_link": true
    }
  },
  "nbformat": 4,
  "nbformat_minor": 5
}