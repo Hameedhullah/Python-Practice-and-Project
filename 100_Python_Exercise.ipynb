{
  "nbformat": 4,
  "nbformat_minor": 0,
  "metadata": {
    "colab": {
      "provenance": [],
      "authorship_tag": "ABX9TyN0oGW1IceKIGt20GEI4ySC"
    },
    "kernelspec": {
      "name": "python3",
      "display_name": "Python 3"
    },
    "language_info": {
      "name": "python"
    }
  },
  "cells": [
    {
      "cell_type": "code",
      "execution_count": null,
      "metadata": {
        "colab": {
          "base_uri": "https://localhost:8080/"
        },
        "id": "ZxSR_DniRieC",
        "outputId": "6b0e0750-7d75-4d25-e21f-b7ff7c73499b"
      },
      "outputs": [
        {
          "output_type": "stream",
          "name": "stdout",
          "text": [
            "15\n"
          ]
        }
      ],
      "source": [
        "# Exercise 1 - Variable Updating\n",
        "a = 2\n",
        "a = 4\n",
        "a = 5\n",
        "print(a+a+a)"
      ]
    },
    {
      "cell_type": "code",
      "source": [
        "# Exercise 2 - Naming Rules - Executing the code will throw an error.\n",
        "\n",
        "_a = 1\n",
        "print(_a)\n",
        "_a2 = 1\n",
        "print(_a2)\n",
        "2a = 4\n",
        "print(2a)"
      ],
      "metadata": {
        "colab": {
          "base_uri": "https://localhost:8080/",
          "height": 130
        },
        "id": "OkiRQdGJSvhR",
        "outputId": "533f0c25-348e-401c-969a-37fcf99ad064"
      },
      "execution_count": null,
      "outputs": [
        {
          "output_type": "error",
          "ename": "SyntaxError",
          "evalue": "ignored",
          "traceback": [
            "\u001b[0;36m  File \u001b[0;32m\"<ipython-input-2-746e1f909561>\"\u001b[0;36m, line \u001b[0;32m7\u001b[0m\n\u001b[0;31m    2a = 4\u001b[0m\n\u001b[0m     ^\u001b[0m\n\u001b[0;31mSyntaxError\u001b[0m\u001b[0;31m:\u001b[0m invalid syntax\n"
          ]
        }
      ]
    },
    {
      "cell_type": "code",
      "source": [
        "# Exercise 3 - Compare vs Assign - Executing the code will throw an error. Can you explain why?\n",
        "\n",
        "a = 1\n",
        "b = 2\n",
        "print(a==b)\n",
        "print(b==c)"
      ],
      "metadata": {
        "colab": {
          "base_uri": "https://localhost:8080/",
          "height": 217
        },
        "id": "Bio76edKTIox",
        "outputId": "153a2c46-e169-4a32-ea00-6e92939ee4a4"
      },
      "execution_count": null,
      "outputs": [
        {
          "output_type": "stream",
          "name": "stdout",
          "text": [
            "False\n"
          ]
        },
        {
          "output_type": "error",
          "ename": "NameError",
          "evalue": "ignored",
          "traceback": [
            "\u001b[0;31m---------------------------------------------------------------------------\u001b[0m",
            "\u001b[0;31mNameError\u001b[0m                                 Traceback (most recent call last)",
            "\u001b[0;32m<ipython-input-3-c0b4a4810b8d>\u001b[0m in \u001b[0;36m<module>\u001b[0;34m\u001b[0m\n\u001b[1;32m      4\u001b[0m \u001b[0mb\u001b[0m \u001b[0;34m=\u001b[0m \u001b[0;36m2\u001b[0m\u001b[0;34m\u001b[0m\u001b[0;34m\u001b[0m\u001b[0m\n\u001b[1;32m      5\u001b[0m \u001b[0mprint\u001b[0m\u001b[0;34m(\u001b[0m\u001b[0ma\u001b[0m\u001b[0;34m==\u001b[0m\u001b[0mb\u001b[0m\u001b[0;34m)\u001b[0m\u001b[0;34m\u001b[0m\u001b[0;34m\u001b[0m\u001b[0m\n\u001b[0;32m----> 6\u001b[0;31m \u001b[0mprint\u001b[0m\u001b[0;34m(\u001b[0m\u001b[0mb\u001b[0m\u001b[0;34m==\u001b[0m\u001b[0mc\u001b[0m\u001b[0;34m)\u001b[0m\u001b[0;34m\u001b[0m\u001b[0;34m\u001b[0m\u001b[0m\n\u001b[0m",
            "\u001b[0;31mNameError\u001b[0m: name 'c' is not defined"
          ]
        }
      ]
    },
    {
      "cell_type": "code",
      "source": [
        "# Exercise 4 - TypeError - Fix the last line so that it outputs the sum of 1 and 2. Please do not change the first two lines, only the last one.\n",
        "\n",
        "a = \"1\"\n",
        "b = 2\n",
        "print (int(a)+b)"
      ],
      "metadata": {
        "colab": {
          "base_uri": "https://localhost:8080/"
        },
        "id": "GMm__psjTc4p",
        "outputId": "a0df9066-182a-4bb3-b7d9-de425a22959c"
      },
      "execution_count": null,
      "outputs": [
        {
          "output_type": "stream",
          "name": "stdout",
          "text": [
            "3\n"
          ]
        }
      ]
    },
    {
      "cell_type": "code",
      "source": [
        "# Exercise 5 - Sequence Indexing - Complete the script so that it prints out the second item of the list.\n",
        "\n",
        "letters = [\"a\", \"b\", \"c\", \"d\", \"e\", \"f\", \"g\", \"h\", \"i\", \"j\"]\n",
        "letters[1]"
      ],
      "metadata": {
        "colab": {
          "base_uri": "https://localhost:8080/",
          "height": 35
        },
        "id": "RH7IaYF4UJuH",
        "outputId": "11e0bf9d-14af-46b8-8f04-3e48d168fa53"
      },
      "execution_count": null,
      "outputs": [
        {
          "output_type": "execute_result",
          "data": {
            "text/plain": [
              "'b'"
            ],
            "application/vnd.google.colaboratory.intrinsic+json": {
              "type": "string"
            }
          },
          "metadata": {},
          "execution_count": 5
        }
      ]
    },
    {
      "cell_type": "code",
      "source": [
        "# Exercise 6 - Sequence Slicing - Please complete the script so that it prints out a list slice containing items d , e , and f.\n",
        "\n",
        "letters = [\"a\", \"b\", \"c\", \"d\", \"e\", \"f\", \"g\", \"h\", \"i\", \"j\"]\n",
        "letters[3:6]"
      ],
      "metadata": {
        "colab": {
          "base_uri": "https://localhost:8080/"
        },
        "id": "G6t4xKn1UWt6",
        "outputId": "b58aba95-23e8-4726-9732-e0263776e3e8"
      },
      "execution_count": null,
      "outputs": [
        {
          "output_type": "execute_result",
          "data": {
            "text/plain": [
              "['d', 'e', 'f']"
            ]
          },
          "metadata": {},
          "execution_count": 6
        }
      ]
    },
    {
      "cell_type": "code",
      "source": [
        "# Exercise 7 - Sequence Slicing - Please complete the script so that it prints out the first three items of list letters.\n",
        "\n",
        "letters = [\"a\", \"b\", \"c\", \"d\", \"e\", \"f\", \"g\", \"h\", \"i\", \"j\"]\n",
        "letters[:3]"
      ],
      "metadata": {
        "colab": {
          "base_uri": "https://localhost:8080/"
        },
        "id": "dGyLnMlNUotu",
        "outputId": "e17f740a-6d04-4987-9be6-b145c9ba2061"
      },
      "execution_count": null,
      "outputs": [
        {
          "output_type": "execute_result",
          "data": {
            "text/plain": [
              "['a', 'b', 'c']"
            ]
          },
          "metadata": {},
          "execution_count": 7
        }
      ]
    },
    {
      "cell_type": "code",
      "source": [
        "# Exercise 8 - Negative Indexing - Complete the script so that it prints out the letter i  using negative indexing.\n",
        "\n",
        "letters = [\"a\", \"b\", \"c\", \"d\", \"e\", \"f\", \"g\", \"h\", \"i\", \"j\"]\n",
        "letters[-2]"
      ],
      "metadata": {
        "colab": {
          "base_uri": "https://localhost:8080/",
          "height": 35
        },
        "id": "bgbycHWOU5sE",
        "outputId": "0ba6bd6f-aeb3-4d5e-ad8c-f4cfcb9448c6"
      },
      "execution_count": null,
      "outputs": [
        {
          "output_type": "execute_result",
          "data": {
            "text/plain": [
              "'i'"
            ],
            "application/vnd.google.colaboratory.intrinsic+json": {
              "type": "string"
            }
          },
          "metadata": {},
          "execution_count": 8
        }
      ]
    },
    {
      "cell_type": "code",
      "source": [
        "# Exercise 9 - Negative Slicing - Complete the script so that it prints out a list slice containing the last three items of the list letters .\n",
        "\n",
        "letters = [\"a\", \"b\", \"c\", \"d\", \"e\", \"f\", \"g\", \"h\", \"i\", \"j\"]\n",
        "letters[-3:]"
      ],
      "metadata": {
        "colab": {
          "base_uri": "https://localhost:8080/"
        },
        "id": "v_YUXkL4VEM3",
        "outputId": "7b6d967a-898d-4afc-c882-4b73dd7444cf"
      },
      "execution_count": null,
      "outputs": [
        {
          "output_type": "execute_result",
          "data": {
            "text/plain": [
              "['h', 'i', 'j']"
            ]
          },
          "metadata": {},
          "execution_count": 9
        }
      ]
    },
    {
      "cell_type": "code",
      "source": [
        "# Exercise 10 - Sequence Item Picking - Complete the script so that it prints out a list slice containing letters a, c, e, g, and i.\n",
        "\n",
        "letters = [\"a\", \"b\", \"c\", \"d\", \"e\", \"f\", \"g\", \"h\", \"i\", \"j\"]\n",
        "for item in range(0,len(letters),2):\n",
        "    print(letters[item], end = ' ')\n",
        "\n",
        "print(letters[::2])"
      ],
      "metadata": {
        "colab": {
          "base_uri": "https://localhost:8080/"
        },
        "id": "toKPjDdhVfBF",
        "outputId": "91a33776-1c7d-426a-ac8c-144cb2fd7e57"
      },
      "execution_count": null,
      "outputs": [
        {
          "output_type": "stream",
          "name": "stdout",
          "text": [
            "a c e g i ['a', 'c', 'e', 'g', 'i']\n"
          ]
        }
      ]
    },
    {
      "cell_type": "code",
      "source": [
        "# Exercise 11 - Range - Create a script that generates and prints a list of numbers from 1 to 20. Please do not create the list manually.\n",
        "num = range(1,21)\n",
        "print(list(num))"
      ],
      "metadata": {
        "colab": {
          "base_uri": "https://localhost:8080/"
        },
        "id": "2ATTh8C_X9go",
        "outputId": "986f2645-4f6d-4cf7-fc3f-2748ecc4aa73"
      },
      "execution_count": null,
      "outputs": [
        {
          "output_type": "stream",
          "name": "stdout",
          "text": [
            "[1, 2, 3, 4, 5, 6, 7, 8, 9, 10, 11, 12, 13, 14, 15, 16, 17, 18, 19, 20]\n"
          ]
        }
      ]
    },
    {
      "cell_type": "code",
      "source": [
        "# Exercise 12 - Ranges - Complete the script so that it produces the expected output. Please use my_range  as input data.\n",
        "l = []\n",
        "for i in range(1,21):\n",
        "  my_range = i*10\n",
        "  l.append(my_range)\n",
        "print(l)"
      ],
      "metadata": {
        "colab": {
          "base_uri": "https://localhost:8080/"
        },
        "id": "X-nxa0t1ZAuT",
        "outputId": "27548ad1-8069-4559-fbba-ac4cc9596794"
      },
      "execution_count": null,
      "outputs": [
        {
          "output_type": "stream",
          "name": "stdout",
          "text": [
            "[10, 20, 30, 40, 50, 60, 70, 80, 90, 100, 110, 120, 130, 140, 150, 160, 170, 180, 190, 200]\n"
          ]
        }
      ]
    },
    {
      "cell_type": "code",
      "source": [
        "# Exercise 12 - Ranges - Complete the script so that it produces the expected output. Please use my_range  as input data.\n",
        "my_range = range(1,21)\n",
        "print([10 * x for x in my_range])"
      ],
      "metadata": {
        "colab": {
          "base_uri": "https://localhost:8080/"
        },
        "id": "mVhmMvZ0ZpEm",
        "outputId": "3add79ed-e902-44a9-92e7-fd85f9968356"
      },
      "execution_count": null,
      "outputs": [
        {
          "output_type": "stream",
          "name": "stdout",
          "text": [
            "[10, 20, 30, 40, 50, 60, 70, 80, 90, 100, 110, 120, 130, 140, 150, 160, 170, 180, 190, 200]\n"
          ]
        }
      ]
    },
    {
      "cell_type": "code",
      "source": [
        "# Exercise 13 - Ranges of Strings - Complete the script,so it generates the expected output using my_range as input data.\n",
        "# Please note that the items of the expected list output are all strings.\n",
        "\n",
        "my_range = range(1,21)\n",
        "print([str(x) for x in my_range])"
      ],
      "metadata": {
        "colab": {
          "base_uri": "https://localhost:8080/"
        },
        "id": "NtLCKtDZbUHZ",
        "outputId": "e218da8c-5780-4a2d-cf7e-3c8b895f80cd"
      },
      "execution_count": null,
      "outputs": [
        {
          "output_type": "stream",
          "name": "stdout",
          "text": [
            "['1', '2', '3', '4', '5', '6', '7', '8', '9', '10', '11', '12', '13', '14', '15', '16', '17', '18', '19', '20']\n"
          ]
        }
      ]
    },
    {
      "cell_type": "code",
      "source": [
        "# Exercise 13 - Ranges of Strings - Complete the script,so it generates the expected output using my_range as input data.\n",
        "# Please note that the items of the expected list output are all strings.\n",
        "\n",
        "my_range = range(1,21)\n",
        "print(list(map(str,my_range)))"
      ],
      "metadata": {
        "colab": {
          "base_uri": "https://localhost:8080/"
        },
        "id": "Wv_Il9n_cJFM",
        "outputId": "4808d065-e215-419c-a692-a2285346e35c"
      },
      "execution_count": null,
      "outputs": [
        {
          "output_type": "stream",
          "name": "stdout",
          "text": [
            "['1', '2', '3', '4', '5', '6', '7', '8', '9', '10', '11', '12', '13', '14', '15', '16', '17', '18', '19', '20']\n"
          ]
        }
      ]
    },
    {
      "cell_type": "code",
      "source": [
        "# Exercise 14 - Removing Duplicates - Complete the script so that it removes duplicate items from the list a.\n",
        "\n",
        "a = [\"1\", 1, \"1\", 2]\n",
        "print(list(set(a)))"
      ],
      "metadata": {
        "colab": {
          "base_uri": "https://localhost:8080/"
        },
        "id": "sCtSo1D-cem2",
        "outputId": "9179558b-7888-4564-cacf-ccecb23d12aa"
      },
      "execution_count": null,
      "outputs": [
        {
          "output_type": "stream",
          "name": "stdout",
          "text": [
            "[1, 2, '1']\n"
          ]
        }
      ]
    },
    {
      "cell_type": "code",
      "source": [
        "# Exercise 15 - Simple Dictionary - Create a dictionary that contains the keys a  and b  and their respective values 1  and 2.\n",
        "\n",
        "z = {'a':1,'b':2}\n",
        "print(z)"
      ],
      "metadata": {
        "colab": {
          "base_uri": "https://localhost:8080/"
        },
        "id": "xkD6zNlHdC2j",
        "outputId": "6704f9b4-66b7-483d-a862-c7e95defd7bb"
      },
      "execution_count": null,
      "outputs": [
        {
          "output_type": "stream",
          "name": "stdout",
          "text": [
            "{'a': 1, 'b': 2}\n"
          ]
        }
      ]
    },
    {
      "cell_type": "code",
      "source": [
        "# Exercise 16 - Accessing Dictionary Items - Please complete the script so that it prints out the value of key b.\n",
        "\n",
        "d = {'a':1,'b':2}\n",
        "d['b']"
      ],
      "metadata": {
        "colab": {
          "base_uri": "https://localhost:8080/"
        },
        "id": "qo88SUxxkJb8",
        "outputId": "7388545b-4048-4161-88e6-1d38d8a403b4"
      },
      "execution_count": null,
      "outputs": [
        {
          "output_type": "execute_result",
          "data": {
            "text/plain": [
              "2"
            ]
          },
          "metadata": {},
          "execution_count": 64
        }
      ]
    },
    {
      "cell_type": "code",
      "source": [
        "# Exercise 17 - Dictionary Items Sum Up - Calculate the sum of the values of keys a  and b.\n",
        "\n",
        "d = {\"a\": 1, \"b\": 2, \"c\": 3}\n",
        "d['a']+d['b']"
      ],
      "metadata": {
        "colab": {
          "base_uri": "https://localhost:8080/"
        },
        "id": "Pt1j5tFRlNXN",
        "outputId": "d37c9e63-6c1f-4e59-a0ec-97a71d7a19f7"
      },
      "execution_count": null,
      "outputs": [
        {
          "output_type": "execute_result",
          "data": {
            "text/plain": [
              "3"
            ]
          },
          "metadata": {},
          "execution_count": 66
        }
      ]
    },
    {
      "cell_type": "code",
      "source": [
        "# Exercise 18 - Why key error\n",
        "\n",
        "#d = {\"Name\": \"John\", \"Surname\": \"Smith\"}\n",
        "#print(d[\"Smith\"])\n",
        "\n",
        "d = {\"Name\": \"John\", \"Surname\": \"Smith\"}\n",
        "print(d[\"Surname\"])"
      ],
      "metadata": {
        "id": "N7XQNFa-mPj6",
        "colab": {
          "base_uri": "https://localhost:8080/"
        },
        "outputId": "abf2f3f0-1984-46e7-e744-beb0f5b8d9ec"
      },
      "execution_count": null,
      "outputs": [
        {
          "output_type": "stream",
          "name": "stdout",
          "text": [
            "Smith\n"
          ]
        }
      ]
    },
    {
      "cell_type": "code",
      "source": [
        "# Exercise 19 - Add Dictionary Key - Add a new pair of key (e.g. c ) and value (e.g. 3 ) to the dictionary and print out the new dictionary.\n",
        "\n",
        "d = {\"a\": 1, \"b\": 2}\n",
        "d[\"c\"] = 3\n",
        "print(d)"
      ],
      "metadata": {
        "colab": {
          "base_uri": "https://localhost:8080/"
        },
        "id": "YDazeBnIPmpT",
        "outputId": "b8d9dfff-2ee4-4356-8fc6-f277705d4d11"
      },
      "execution_count": null,
      "outputs": [
        {
          "output_type": "stream",
          "name": "stdout",
          "text": [
            "{'a': 1, 'b': 2, 'c': 3}\n"
          ]
        }
      ]
    },
    {
      "cell_type": "code",
      "source": [
        "# Exercise 20 - Apply Function to Dictionary Items - Calculate the sum of all dictionary values.\n",
        "\n",
        "d = {\"a\": 1, \"b\": 2, \"c\": 3}\n",
        "print(sum(d.values()))"
      ],
      "metadata": {
        "id": "FIlYdN1pRCf5",
        "colab": {
          "base_uri": "https://localhost:8080/"
        },
        "outputId": "5ecab895-e80d-416e-8b69-f2892368a915"
      },
      "execution_count": null,
      "outputs": [
        {
          "output_type": "stream",
          "name": "stdout",
          "text": [
            "6\n"
          ]
        }
      ]
    },
    {
      "cell_type": "code",
      "source": [
        "# Exercise 21 - Dictionary Filtering - Filter the dictionary by removing all items with a value of greater than 1.\n",
        "\n",
        "d = {\"a\": 1, \"b\": 2, \"c\": 3}\n",
        "d = dict((key, value) for key, value in d.items() if value <= 1)\n",
        "print(d)"
      ],
      "metadata": {
        "id": "SoAwA8W2RC0j",
        "colab": {
          "base_uri": "https://localhost:8080/"
        },
        "outputId": "d4415063-86b8-46a7-8cda-256ab2d94fc7"
      },
      "execution_count": null,
      "outputs": [
        {
          "output_type": "stream",
          "name": "stdout",
          "text": [
            "{'a': 1}\n"
          ]
        }
      ]
    },
    {
      "cell_type": "code",
      "source": [],
      "metadata": {
        "id": "7O8T4MXlRDDa"
      },
      "execution_count": null,
      "outputs": []
    },
    {
      "cell_type": "code",
      "source": [],
      "metadata": {
        "id": "J-fzg9qmRDVj"
      },
      "execution_count": null,
      "outputs": []
    },
    {
      "cell_type": "code",
      "source": [],
      "metadata": {
        "id": "z67WhHaNRDjJ"
      },
      "execution_count": null,
      "outputs": []
    },
    {
      "cell_type": "code",
      "source": [],
      "metadata": {
        "id": "WXTt0a_jRDvb"
      },
      "execution_count": null,
      "outputs": []
    },
    {
      "cell_type": "code",
      "source": [
        "# Exercise 26 - Print Range - Make a script that prints out numbers from 1 to 10\n",
        "\n",
        "for i in range(11):\n",
        "  print(i, end = ',')"
      ],
      "metadata": {
        "colab": {
          "base_uri": "https://localhost:8080/"
        },
        "id": "dk_fCSktQ-hw",
        "outputId": "0161104e-52fc-4633-9c23-f580b34fc195"
      },
      "execution_count": null,
      "outputs": [
        {
          "output_type": "stream",
          "name": "stdout",
          "text": [
            "0,1,2,3,4,5,6,7,8,9,10,"
          ]
        }
      ]
    },
    {
      "cell_type": "code",
      "source": [
        "# Exercise 27 - Acceleration Calculator\n",
        "\n",
        "def acc_cal(v1,v2,t1,t2):\n",
        "  result = (v2-v1)/(t2-t1)\n",
        "  return result\n",
        "\n",
        "osc = acc_cal(0,10,0,20)\n",
        "print(osc)"
      ],
      "metadata": {
        "colab": {
          "base_uri": "https://localhost:8080/"
        },
        "id": "fjhHSvzRRXzx",
        "outputId": "567843fb-9da4-4750-a29d-815fc708cc73"
      },
      "execution_count": null,
      "outputs": [
        {
          "output_type": "stream",
          "name": "stdout",
          "text": [
            "0.5\n"
          ]
        }
      ]
    },
    {
      "cell_type": "code",
      "source": [
        "# Exercise 28 - TypeError -  Why is there an error in the code, and how would you fix it?\n",
        "\n",
        "def foo(a, b):\n",
        "    return (a + b)\n",
        "\n",
        "#x = foo(2,3) * 10\n",
        "x = foo(2,3) * 10\n",
        "x"
      ],
      "metadata": {
        "colab": {
          "base_uri": "https://localhost:8080/"
        },
        "id": "Btg9lve5SRrC",
        "outputId": "43ce74c2-c4bf-4bd4-f196-743c5170a841"
      },
      "execution_count": null,
      "outputs": [
        {
          "output_type": "execute_result",
          "data": {
            "text/plain": [
              "50"
            ]
          },
          "metadata": {},
          "execution_count": 22
        }
      ]
    },
    {
      "cell_type": "code",
      "source": [
        "# Exercise 29 - Liquid Volume Calculator\n",
        "\n",
        "from math import pi\n",
        "def liq_vol(h, r):\n",
        "  result = ((4*pi*r**3)/3) - (pi*h**2*(3*r - h)/3)\n",
        "  return result\n",
        "\n",
        "ans = liq_vol(2,10)\n",
        "ans"
      ],
      "metadata": {
        "colab": {
          "base_uri": "https://localhost:8080/"
        },
        "id": "-Vuh8VKMTksx",
        "outputId": "6677679b-990b-460b-a83b-d4569197e1da"
      },
      "execution_count": null,
      "outputs": [
        {
          "output_type": "execute_result",
          "data": {
            "text/plain": [
              "4071.5040790523717"
            ]
          },
          "metadata": {},
          "execution_count": 42
        }
      ]
    },
    {
      "cell_type": "code",
      "source": [
        "# Exercise 30 - Arguments -  Why do you get an error, and how would you fix it?\n",
        "\n",
        "#def foo(a=2, b):\n",
        "    #return a + b\n",
        "def foo(b, a = 2):\n",
        "    return a + b"
      ],
      "metadata": {
        "id": "2KeQBOx3VaG-"
      },
      "execution_count": null,
      "outputs": []
    },
    {
      "cell_type": "code",
      "source": [
        "# Exercise 31 - Function Blueprint - Why is there an error in the code, and how would you fix it?\n",
        "\n",
        "#def foo(a=1, b=2):\n",
        "    #return a + b\n",
        "#x = foo - 1\n",
        "\n",
        "def foo(a=1, b=2):\n",
        "    return a + b\n",
        "\n",
        "x = foo() - 1\n",
        "x"
      ],
      "metadata": {
        "colab": {
          "base_uri": "https://localhost:8080/"
        },
        "id": "p_Gqkp75Yo8o",
        "outputId": "d0df509a-c07d-4279-98a8-149f49b3051a"
      },
      "execution_count": null,
      "outputs": [
        {
          "output_type": "execute_result",
          "data": {
            "text/plain": [
              "2"
            ]
          },
          "metadata": {},
          "execution_count": 49
        }
      ]
    },
    {
      "cell_type": "code",
      "source": [
        "# Exercise 32 - Global Variables - What will the following script output? Please try to do this by mind if you can.\n",
        "\n",
        "c = 1\n",
        "def foo():\n",
        "    return c\n",
        "c = 3\n",
        "print(foo())\n",
        "\n",
        "c = 10\n",
        "print(foo())\n",
        "\n",
        "a = 2\n",
        "print(foo())"
      ],
      "metadata": {
        "colab": {
          "base_uri": "https://localhost:8080/"
        },
        "id": "NIvE4gCeZIA8",
        "outputId": "949135a2-35fb-4bfa-9046-b46b11e7d082"
      },
      "execution_count": null,
      "outputs": [
        {
          "output_type": "stream",
          "name": "stdout",
          "text": [
            "3\n",
            "10\n",
            "10\n"
          ]
        }
      ]
    },
    {
      "cell_type": "code",
      "source": [
        "# Exercise 33 - Sales Commission Calculator\n",
        "\n",
        "base_salary = int(input(\"Enter the base salary: \"))\n",
        "sales = int(input(\"Enter the sales amount: \"))\n",
        "\n",
        "if sales <= 10000:\n",
        "    commission = 0.05 * sales\n",
        "elif 10000 < sales <= 20000:\n",
        "    commission = 0.07 * sales\n",
        "else:\n",
        "    commission = 0.10 * sales\n",
        "\n",
        "total_earnings = base_salary + commission\n",
        "print(f\"Total Earnings: {total_earnings}\")"
      ],
      "metadata": {
        "id": "DaxSCGv0aORx",
        "colab": {
          "base_uri": "https://localhost:8080/"
        },
        "outputId": "e883edfb-1e82-478d-e4ee-d402e7d49333"
      },
      "execution_count": null,
      "outputs": [
        {
          "output_type": "stream",
          "name": "stdout",
          "text": [
            "Enter the base salary: 15000\n",
            "Enter the sales amount: 5000\n",
            "Total Earnings: 15250.0\n"
          ]
        }
      ]
    },
    {
      "cell_type": "code",
      "source": [
        "def calculate_total_salary(base_salary, sales):\n",
        "    \"\"\"\n",
        "    Calculate total earnings including commission based on sales.\n",
        "\n",
        "    \"\"\"\n",
        "    if sales <= 10000:\n",
        "        commission = 0.05 * sales\n",
        "    elif sales <= 20000:\n",
        "        commission = 0.07 * sales\n",
        "    else:\n",
        "        commission = 0.10 * sales\n",
        "\n",
        "    return base_salary + commission\n",
        "\n",
        "# Test Case\n",
        "print(calculate_total_salary(20000, 25000))\n",
        "print(calculate_total_salary(10000,5000))"
      ],
      "metadata": {
        "colab": {
          "base_uri": "https://localhost:8080/"
        },
        "id": "2blI5QxFopli",
        "outputId": "7041b5fd-d2db-492b-bef8-7848aa3b0cca"
      },
      "execution_count": null,
      "outputs": [
        {
          "output_type": "stream",
          "name": "stdout",
          "text": [
            "22500.0\n",
            "10250.0\n"
          ]
        }
      ]
    },
    {
      "cell_type": "code",
      "source": [
        "# Exercise 34 - Loan EMI Calculator\n",
        "\n",
        "principal = int(input(\"Enter the principal amount: \"))\n",
        "roi = float(input(\"Enter the ROI: \"))\n",
        "tenture = int(input(\"Enter the month: \"))\n",
        "\n",
        "value = ((1+(roi/100))**tenture)\n",
        "EMI = (principal*roi*value)/(value - 1)\n",
        "EMI = EMI/12\n",
        "print(round(EMI,4))"
      ],
      "metadata": {
        "colab": {
          "base_uri": "https://localhost:8080/"
        },
        "id": "V7I8Vk29p_wK",
        "outputId": "6a62a7af-ab17-4b36-dd22-ff7550b10d4c"
      },
      "execution_count": null,
      "outputs": [
        {
          "output_type": "stream",
          "name": "stdout",
          "text": [
            "Enter the principal amount: 100\n",
            "Enter the ROI: 4.5\n",
            "Enter the month: 4\n",
            "232.2864\n"
          ]
        }
      ]
    },
    {
      "cell_type": "code",
      "source": [],
      "metadata": {
        "colab": {
          "base_uri": "https://localhost:8080/"
        },
        "id": "JD-Tj-JJ4sWC",
        "outputId": "708f6104-ae0f-4ec6-a726-eff845fe8182"
      },
      "execution_count": null,
      "outputs": [
        {
          "output_type": "stream",
          "name": "stdout",
          "text": [
            "1.1925186006249997\n"
          ]
        }
      ]
    },
    {
      "cell_type": "code",
      "source": [
        "'''3. Temperature Alert System\n",
        "Scenario: A IoT device records temperatures every hour. If the temperature exceeds 35°C for 3 consecutive hours, trigger an alert.\n",
        "\n",
        "Task: Given a list of hourly temperatures, return True if an alert should be triggered.'''"
      ],
      "metadata": {
        "id": "5gVvxhXp4NnE"
      },
      "execution_count": null,
      "outputs": []
    },
    {
      "cell_type": "code",
      "source": [
        "'''4. Inventory Restocking Logic\n",
        "Scenario: A store restocks products when inventory falls below a threshold. However, suppliers offer discounts for bulk orders:\n",
        "\n",
        "Order 100+ units: 10% discount\n",
        "\n",
        "Order 500+ units: 20% discount\n",
        "\n",
        "Task: Write a function that takes current_stock, threshold, and unit_price to calculate the restocking cost after discounts.'''"
      ],
      "metadata": {
        "id": "ZRzv8Ud-4N0b"
      },
      "execution_count": null,
      "outputs": []
    },
    {
      "cell_type": "code",
      "source": [
        "#5. A/B Test Statistical Significance\n",
        "'''Scenario: An e-commerce company runs an A/B test where:\n",
        "\n",
        "Group A (1000 users) has a 15% conversion rate.\n",
        "\n",
        "Group B (1000 users) has an 18% conversion rate.\n",
        "\n",
        "Task: Calculate the Z-score to determine if the difference is statistically significant (use the formula for two-proportion Z-test).'''"
      ],
      "metadata": {
        "id": "rEP2tDYK4N4c"
      },
      "execution_count": null,
      "outputs": []
    }
  ]
}